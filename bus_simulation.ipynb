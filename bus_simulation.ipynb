{
  "nbformat": 4,
  "nbformat_minor": 0,
  "metadata": {
    "colab": {
      "name": "bus_simulation.ipynb",
      "provenance": [],
      "collapsed_sections": []
    },
    "kernelspec": {
      "name": "python3",
      "display_name": "Python 3"
    }
  },
  "cells": [
    {
      "cell_type": "code",
      "metadata": {
        "id": "q2S7CvQ2bZyE",
        "colab_type": "code",
        "outputId": "0237a621-6977-4af3-eb10-554ae92069a8",
        "colab": {
          "base_uri": "https://localhost:8080/",
          "height": 34
        }
      },
      "source": [
        "from google.colab import drive\n",
        "\n",
        "drive.mount('/content/gdrive')"
      ],
      "execution_count": 0,
      "outputs": [
        {
          "output_type": "stream",
          "text": [
            "Drive already mounted at /content/gdrive; to attempt to forcibly remount, call drive.mount(\"/content/gdrive\", force_remount=True).\n"
          ],
          "name": "stdout"
        }
      ]
    },
    {
      "cell_type": "code",
      "metadata": {
        "id": "W66Nfzzdbka8",
        "colab_type": "code",
        "outputId": "044f726a-1093-497d-ffa3-dca1aa33feac",
        "colab": {
          "base_uri": "https://localhost:8080/",
          "height": 204
        }
      },
      "source": [
        "import pandas as pd\n",
        "\n",
        "df=pd.read_csv('/content/gdrive/My Drive/600.csv')\n",
        "df=df.iloc[:51,:4]\n",
        "df.tail()"
      ],
      "execution_count": 0,
      "outputs": [
        {
          "output_type": "execute_result",
          "data": {
            "text/html": [
              "<div>\n",
              "<style scoped>\n",
              "    .dataframe tbody tr th:only-of-type {\n",
              "        vertical-align: middle;\n",
              "    }\n",
              "\n",
              "    .dataframe tbody tr th {\n",
              "        vertical-align: top;\n",
              "    }\n",
              "\n",
              "    .dataframe thead th {\n",
              "        text-align: right;\n",
              "    }\n",
              "</style>\n",
              "<table border=\"1\" class=\"dataframe\">\n",
              "  <thead>\n",
              "    <tr style=\"text-align: right;\">\n",
              "      <th></th>\n",
              "      <th>depart_hotel</th>\n",
              "      <th>arrive_airport</th>\n",
              "      <th>depart_airport</th>\n",
              "      <th>arrive_hotel</th>\n",
              "    </tr>\n",
              "  </thead>\n",
              "  <tbody>\n",
              "    <tr>\n",
              "      <th>46</th>\n",
              "      <td>20:58</td>\n",
              "      <td>22:43</td>\n",
              "      <td>21:08</td>\n",
              "      <td>22:38</td>\n",
              "    </tr>\n",
              "    <tr>\n",
              "      <th>47</th>\n",
              "      <td>21:12</td>\n",
              "      <td>22:57</td>\n",
              "      <td>21:27</td>\n",
              "      <td>22:47</td>\n",
              "    </tr>\n",
              "    <tr>\n",
              "      <th>48</th>\n",
              "      <td>21:26</td>\n",
              "      <td>23:11</td>\n",
              "      <td>21:50</td>\n",
              "      <td>23:10</td>\n",
              "    </tr>\n",
              "    <tr>\n",
              "      <th>49</th>\n",
              "      <td>21:40</td>\n",
              "      <td>23:25</td>\n",
              "      <td>22:20</td>\n",
              "      <td>23:40</td>\n",
              "    </tr>\n",
              "    <tr>\n",
              "      <th>50</th>\n",
              "      <td>22:00</td>\n",
              "      <td>23:45</td>\n",
              "      <td>22:50</td>\n",
              "      <td>0:10</td>\n",
              "    </tr>\n",
              "  </tbody>\n",
              "</table>\n",
              "</div>"
            ],
            "text/plain": [
              "   depart_hotel arrive_airport depart_airport arrive_hotel\n",
              "46        20:58          22:43          21:08        22:38\n",
              "47        21:12          22:57          21:27        22:47\n",
              "48        21:26          23:11          21:50        23:10\n",
              "49        21:40          23:25          22:20        23:40\n",
              "50        22:00          23:45          22:50         0:10"
            ]
          },
          "metadata": {
            "tags": []
          },
          "execution_count": 40
        }
      ]
    },
    {
      "cell_type": "code",
      "metadata": {
        "id": "6RFg5aUtbkeq",
        "colab_type": "code",
        "outputId": "96284cb8-b02e-4c2e-8b57-0b79b7fbef2c",
        "colab": {
          "base_uri": "https://localhost:8080/",
          "height": 34
        }
      },
      "source": [
        "def to_list_1(column):\n",
        "  dh=df[column].tolist()\n",
        "  l=[]\n",
        "  for i in dh:\n",
        "    i=i.replace(':','')\n",
        "    i=((int(i)//100)*60)+(int(i)%100)\n",
        "    l.append(i)\n",
        "  return l\n",
        "depart_hotel=to_list_1('depart_hotel')\n",
        "arrive_airport=to_list_1('arrive_airport')\n",
        "depart_airport=to_list_1('depart_airport')\n",
        "arrive_hotel=to_list_1('arrive_hotel')\n",
        "\n",
        "print(len(depart_hotel), len(depart_airport))"
      ],
      "execution_count": 0,
      "outputs": [
        {
          "output_type": "stream",
          "text": [
            "51 51\n"
          ],
          "name": "stdout"
        }
      ]
    },
    {
      "cell_type": "code",
      "metadata": {
        "id": "RhKKVHNBbkhV",
        "colab_type": "code",
        "outputId": "69788129-b06c-4bcf-a5ce-d99116091d2c",
        "colab": {
          "base_uri": "https://localhost:8080/",
          "height": 323
        }
      },
      "source": [
        "def hotel_bus_rest(bus_num):\n",
        "  # bus_num-=1\n",
        "  a=[]\n",
        "  num_through = 0\n",
        "  while bus_num+7 < len(arrive_hotel):\n",
        "    if num_through % 2 == 0:\n",
        "      a.append(depart_airport[bus_num+7] - arrive_airport[bus_num])\n",
        "      bus_num+=7\n",
        "    else:\n",
        "      a.append(depart_hotel[bus_num+6] - arrive_hotel[bus_num])\n",
        "      bus_num+=6\n",
        "    num_through+=1\n",
        "  return a\n",
        "\n",
        "for i in range(6):\n",
        "  print(\"\\n #\", i+1 ,\"bus (depart from hotel) rest_time: \\n\",hotel_bus_rest(i))"
      ],
      "execution_count": 0,
      "outputs": [
        {
          "output_type": "stream",
          "text": [
            "\n",
            " # 1 bus (depart from hotel) rest_time: \n",
            " [42, 38, 19, 31, 26, 25, 20]\n",
            "\n",
            " # 2 bus (depart from hotel) rest_time: \n",
            " [42, 37, 20, 31, 26, 24, 20]\n",
            "\n",
            " # 3 bus (depart from hotel) rest_time: \n",
            " [35, 37, 20, 30, 25, 22, 27]\n",
            "\n",
            " # 4 bus (depart from hotel) rest_time: \n",
            " [25, 36, 21, 30, 23, 20, 41]\n",
            "\n",
            " # 5 bus (depart from hotel) rest_time: \n",
            " [15, 36, 21, 29, 22, 18, 55]\n",
            "\n",
            " # 6 bus (depart from hotel) rest_time: \n",
            " [15, 35, 22, 29, 20, 16]\n"
          ],
          "name": "stdout"
        }
      ]
    },
    {
      "cell_type": "code",
      "metadata": {
        "id": "r4LOdqepbkjV",
        "colab_type": "code",
        "outputId": "c405c902-6235-4d28-a93c-81a102e832b8",
        "colab": {
          "base_uri": "https://localhost:8080/",
          "height": 374
        }
      },
      "source": [
        "def airport_bus_rest(bus_num):\n",
        "  # bus_num-=1\n",
        "  a=[]\n",
        "  num_through = 0\n",
        "  while bus_num+6 < len(depart_hotel):\n",
        "    if num_through % 2 == 0:\n",
        "      a.append(depart_hotel[bus_num+6] - arrive_hotel[bus_num])\n",
        "      bus_num+=6\n",
        "    else:\n",
        "      a.append(depart_airport[bus_num+7] - arrive_airport[bus_num])\n",
        "      bus_num+=7\n",
        "    num_through+=1\n",
        "  return a\n",
        "\n",
        "for i in range(7):\n",
        "  print(\"\\n #\", i+1 ,\"bus (depart from airport) rest_time: \\n\",airport_bus_rest(i))"
      ],
      "execution_count": 0,
      "outputs": [
        {
          "output_type": "stream",
          "text": [
            "\n",
            " # 1 bus (depart from airport) rest_time: \n",
            " [41, 16, 35, 22, 28, 19, 14]\n",
            "\n",
            " # 2 bus (depart from airport) rest_time: \n",
            " [41, 16, 34, 23, 28, 18, 11]\n",
            "\n",
            " # 3 bus (depart from airport) rest_time: \n",
            " [40, 17, 34, 23, 27, 18, 6]\n",
            "\n",
            " # 4 bus (depart from airport) rest_time: \n",
            " [40, 17, 33, 24, 27, 17, 9]\n",
            "\n",
            " # 5 bus (depart from airport) rest_time: \n",
            " [39, 18, 33, 24, 26, 17, 4]\n",
            "\n",
            " # 6 bus (depart from airport) rest_time: \n",
            " [39, 18, 32, 25, 26, 18, 3]\n",
            "\n",
            " # 7 bus (depart from airport) rest_time: \n",
            " [38, 19, 32, 25, 25, 19]\n"
          ],
          "name": "stdout"
        }
      ]
    },
    {
      "cell_type": "code",
      "metadata": {
        "id": "5C54BxSGbklz",
        "colab_type": "code",
        "outputId": "c34a545e-89ca-45b5-a095-12c4eda71115",
        "colab": {
          "base_uri": "https://localhost:8080/",
          "height": 510
        }
      },
      "source": [
        "# running rate: (고도때문에 5% 소모량 더썼을시) 1.42km/kwh * 100 / 105 = 1.35km/kwh\n",
        "# charging rate: 3.6kwh/min = x로 설정\n",
        "# 전체 배터리 가정: 272kwh*0.9 = 244.8kwh = 244.8/x min\n",
        "# 62km = 62/(1.35*x) min\n",
        "x=3.61\n",
        "c_rate=(60*x)/272\n",
        "entire_battery = 244.8/x\n",
        "oneway = 62/(1.35*x)\n",
        "def soc_list(rest,num_of_bus, entire_battery, oneway):\n",
        "  soc=entire_battery\n",
        "  soc_list=[]\n",
        "  rest_list=rest(num_of_bus)\n",
        "  for i in range(len(rest_list)):\n",
        "    soc -= oneway\n",
        "    soc_list.append(\"%.2f\" % float(soc*3.6))\n",
        "    if rest_list[i]>=10:\n",
        "      if (rest_list[i]-5)>(entire_battery-soc):\n",
        "        soc = entire_battery\n",
        "      else:\n",
        "        soc += (rest_list[i]-5)\n",
        "    elif i==(len(rest_list)-1):\n",
        "      soc-=oneway\n",
        "      soc_list.append(\"%.2f\" % float(soc*3.6))\n",
        "  soc -= oneway\n",
        "  soc_list.append(\"%.2f\" % float(soc*3.6))\n",
        "  return soc_list\n",
        "print(\"c-rate: \",round(c_rate,2))\n",
        "for i in range(7):\n",
        "  print(\"\\n #\", i+1 ,\"bus (depart from airport) rest_time: \\n\",airport_bus_rest(i))\n",
        "  print(soc_list(airport_bus_rest,i,entire_battery, oneway))"
      ],
      "execution_count": 0,
      "outputs": [
        {
          "output_type": "stream",
          "text": [
            "c-rate:  0.8\n",
            "\n",
            " # 1 bus (depart from airport) rest_time: \n",
            " [41, 16, 35, 22, 28, 19, 14]\n",
            "['198.32', '198.32', '192.12', '198.32', '198.32', '198.32', '198.32', '184.92']\n",
            "\n",
            " # 2 bus (depart from airport) rest_time: \n",
            " [41, 16, 34, 23, 28, 18, 11]\n",
            "['198.32', '198.32', '192.12', '198.32', '198.32', '198.32', '198.32', '174.12']\n",
            "\n",
            " # 3 bus (depart from airport) rest_time: \n",
            " [40, 17, 34, 23, 27, 18, 6]\n",
            "['198.32', '198.32', '195.72', '198.32', '198.32', '198.32', '198.32', '152.52', '106.73']\n",
            "\n",
            " # 4 bus (depart from airport) rest_time: \n",
            " [40, 17, 33, 24, 27, 17, 9]\n",
            "['198.32', '198.32', '195.72', '198.32', '198.32', '198.32', '195.72', '149.93', '104.13']\n",
            "\n",
            " # 5 bus (depart from airport) rest_time: \n",
            " [39, 18, 33, 24, 26, 17, 4]\n",
            "['198.32', '198.32', '198.32', '198.32', '198.32', '198.32', '195.72', '149.93', '104.13']\n",
            "\n",
            " # 6 bus (depart from airport) rest_time: \n",
            " [39, 18, 32, 25, 26, 18, 3]\n",
            "['198.32', '198.32', '198.32', '198.32', '198.32', '198.32', '198.32', '152.52', '106.73']\n",
            "\n",
            " # 7 bus (depart from airport) rest_time: \n",
            " [38, 19, 32, 25, 25, 19]\n",
            "['198.32', '198.32', '198.32', '198.32', '198.32', '198.32', '198.32']\n"
          ],
          "name": "stdout"
        }
      ]
    },
    {
      "cell_type": "code",
      "metadata": {
        "id": "0eJR4n8tR_Z7",
        "colab_type": "code",
        "outputId": "bfb76289-d558-49d6-8ed6-4c019ef91ff6",
        "colab": {
          "base_uri": "https://localhost:8080/",
          "height": 425
        }
      },
      "source": [
        "for i in range(6):\n",
        "  print(\"\\n #\", i+1 ,\"bus (depart from hotel) rest_time: \\n\",hotel_bus_rest(i))\n",
        "  print(soc_list(hotel_bus_rest,i,entire_battery, oneway))"
      ],
      "execution_count": 0,
      "outputs": [
        {
          "output_type": "stream",
          "text": [
            "\n",
            " # 1 bus (depart from hotel) rest_time: \n",
            " [42, 38, 19, 31, 26, 25, 20]\n",
            "['198.32', '198.32', '198.32', '198.32', '198.32', '198.32', '198.32', '198.32']\n",
            "\n",
            " # 2 bus (depart from hotel) rest_time: \n",
            " [42, 37, 20, 31, 26, 24, 20]\n",
            "['198.32', '198.32', '198.32', '198.32', '198.32', '198.32', '198.32', '198.32']\n",
            "\n",
            " # 3 bus (depart from hotel) rest_time: \n",
            " [35, 37, 20, 30, 25, 22, 27]\n",
            "['198.32', '198.32', '198.32', '198.32', '198.32', '198.32', '198.32', '198.32']\n",
            "\n",
            " # 4 bus (depart from hotel) rest_time: \n",
            " [25, 36, 21, 30, 23, 20, 41]\n",
            "['198.32', '198.32', '198.32', '198.32', '198.32', '198.32', '198.32', '198.32']\n",
            "\n",
            " # 5 bus (depart from hotel) rest_time: \n",
            " [15, 36, 21, 29, 22, 18, 55]\n",
            "['198.32', '188.52', '198.32', '198.32', '198.32', '198.32', '198.32', '198.32']\n",
            "\n",
            " # 6 bus (depart from hotel) rest_time: \n",
            " [15, 35, 22, 29, 20, 16]\n",
            "['198.32', '188.52', '198.32', '198.32', '198.32', '198.32', '192.12']\n"
          ],
          "name": "stdout"
        }
      ]
    },
    {
      "cell_type": "code",
      "metadata": {
        "id": "A7lYVz3jR_eq",
        "colab_type": "code",
        "outputId": "2f82eeb9-7baa-4beb-d205-d977235b7853",
        "colab": {
          "base_uri": "https://localhost:8080/",
          "height": 1000
        }
      },
      "source": [
        "# running rate: (고도때문에 5% 소모량 더썼을시) 1.42km/kwh * 100 / 105 = 1.35km/kwh, (에어컨+일땐,) ((x*1.35)-0.43)/x km/kwh, (히터+일땐,) ((x*1.35)-0.55)/x km/kwh\n",
        "# charging rate: 3.6kwh/min = x로 설정\n",
        "# 전체 배터리 가정: 272kwh*0.9 = 244.8 kwh =244.8/x min\n",
        "# 62km = 62/(1.35*x) min\n",
        "\n",
        "#############결과\n",
        "# 에어컨,히터 안쓸땐, chargin rate = 0.35C 까지 가능\n",
        "# 에어컨은 charging rate = 0.51C까지 가능\n",
        "# 히터는 charging rate = 0.55C까지 가능\n",
        "\n",
        "x=3.61\n",
        "c_rate=(60*x)/272\n",
        "entire_battery = 244.8/x\n",
        "oneway = 62/(1.35*x)\n",
        "oneway_with_airconditioner=62/((x*1.35)-0.43)\n",
        "oneway_with_heater=62/((x*1.35)-0.55)\n",
        "\n",
        "def soc_list(rest,num_of_bus, entire_battery, oneway):\n",
        "  soc=entire_battery\n",
        "  soc_list=[]\n",
        "  rest_list=rest(num_of_bus)\n",
        "  for i in range(len(rest_list)):\n",
        "    soc -= oneway\n",
        "    soc_list.append(\"%d\" % int((soc*3.6/272)*100))\n",
        "    if rest_list[i]>=10:\n",
        "      if (rest_list[i]-5)>(entire_battery-soc):\n",
        "        soc = entire_battery\n",
        "      else:\n",
        "        soc += (rest_list[i]-5)\n",
        "    elif i==(len(rest_list)-1):\n",
        "      soc-=oneway\n",
        "      soc_list.append(\"%d\" % int((soc*3.6/272)*100))\n",
        "  soc -= oneway\n",
        "  soc_list.append(\"%d\" % int((soc*3.6/272)*100))\n",
        "  return soc_list\n",
        "print(\"c-rate: \",round(c_rate,2))\n",
        "for i in range(7):\n",
        "  print(\"\\n #\", i+1 ,\"bus (depart from airport) rest_time: \\n\",airport_bus_rest(i))\n",
        "  print(\"<SOC>\\n\",soc_list(airport_bus_rest,i,entire_battery, oneway))\n",
        "  print(\"<SOC with air_conditioner>\\n\",soc_list(airport_bus_rest,i,entire_battery, oneway_with_airconditioner))\n",
        "  print(\"<SOC with heater>\\n\",soc_list(airport_bus_rest,i,entire_battery, oneway_with_heater))\n",
        "  "
      ],
      "execution_count": 0,
      "outputs": [
        {
          "output_type": "stream",
          "text": [
            "c-rate:  0.8\n",
            "\n",
            " # 1 bus (depart from airport) rest_time: \n",
            " [41, 16, 35, 22, 28, 19, 14]\n",
            "<SOC>\n",
            " ['72', '72', '70', '72', '72', '72', '72', '67']\n",
            "<SOC with air_conditioner>\n",
            " ['71', '71', '67', '71', '71', '71', '71', '64']\n",
            "<SOC with heater>\n",
            " ['70', '70', '66', '70', '70', '70', '70', '63']\n",
            "\n",
            " # 2 bus (depart from airport) rest_time: \n",
            " [41, 16, 34, 23, 28, 18, 11]\n",
            "<SOC>\n",
            " ['72', '72', '70', '72', '72', '72', '72', '64']\n",
            "<SOC with air_conditioner>\n",
            " ['71', '71', '67', '71', '71', '71', '70', '59']\n",
            "<SOC with heater>\n",
            " ['70', '70', '66', '70', '70', '70', '68', '57']\n",
            "\n",
            " # 3 bus (depart from airport) rest_time: \n",
            " [40, 17, 34, 23, 27, 18, 6]\n",
            "<SOC>\n",
            " ['72', '72', '71', '72', '72', '72', '72', '56', '39']\n",
            "<SOC with air_conditioner>\n",
            " ['71', '71', '68', '71', '71', '71', '70', '51', '33']\n",
            "<SOC with heater>\n",
            " ['70', '70', '67', '70', '70', '70', '68', '50', '31']\n",
            "\n",
            " # 4 bus (depart from airport) rest_time: \n",
            " [40, 17, 33, 24, 27, 17, 9]\n",
            "<SOC>\n",
            " ['72', '72', '71', '72', '72', '72', '71', '55', '38']\n",
            "<SOC with air_conditioner>\n",
            " ['71', '71', '68', '71', '71', '71', '68', '50', '31']\n",
            "<SOC with heater>\n",
            " ['70', '70', '67', '70', '70', '70', '67', '48', '29']\n",
            "\n",
            " # 5 bus (depart from airport) rest_time: \n",
            " [39, 18, 33, 24, 26, 17, 4]\n",
            "<SOC>\n",
            " ['72', '72', '72', '72', '72', '72', '71', '55', '38']\n",
            "<SOC with air_conditioner>\n",
            " ['71', '71', '70', '71', '71', '71', '68', '50', '31']\n",
            "<SOC with heater>\n",
            " ['70', '70', '68', '70', '70', '70', '67', '48', '29']\n",
            "\n",
            " # 6 bus (depart from airport) rest_time: \n",
            " [39, 18, 32, 25, 26, 18, 3]\n",
            "<SOC>\n",
            " ['72', '72', '72', '72', '72', '72', '72', '56', '39']\n",
            "<SOC with air_conditioner>\n",
            " ['71', '71', '70', '71', '71', '71', '70', '51', '33']\n",
            "<SOC with heater>\n",
            " ['70', '70', '68', '70', '70', '70', '68', '50', '31']\n",
            "\n",
            " # 7 bus (depart from airport) rest_time: \n",
            " [38, 19, 32, 25, 25, 19]\n",
            "<SOC>\n",
            " ['72', '72', '72', '72', '72', '72', '72']\n",
            "<SOC with air_conditioner>\n",
            " ['71', '71', '71', '71', '71', '71', '71']\n",
            "<SOC with heater>\n",
            " ['70', '70', '70', '70', '70', '70', '70']\n"
          ],
          "name": "stdout"
        }
      ]
    },
    {
      "cell_type": "code",
      "metadata": {
        "id": "FE8IVzd3R_hX",
        "colab_type": "code",
        "outputId": "5a9ae584-1ae7-42a5-c00c-58fc6ca78041",
        "colab": {
          "base_uri": "https://localhost:8080/",
          "height": 935
        }
      },
      "source": [
        "x=3.61\n",
        "entire_battery = 244.8/x\n",
        "oneway = 62/(1.35*x)\n",
        "oneway_with_airconditioner=62/((x*1.35)-0.43)\n",
        "oneway_with_heater=62/((x*1.35)-0.55)\n",
        "\n",
        "def soc_list(rest,num_of_bus, entire_battery, oneway):\n",
        "  soc=entire_battery\n",
        "  soc_list=[]\n",
        "  rest_list=rest(num_of_bus)\n",
        "  for i in range(len(rest_list)):\n",
        "    soc -= oneway\n",
        "    soc_list.append(\"%d\" % int((soc*3.6/272)*100))\n",
        "    if rest_list[i]>=10:\n",
        "      if (rest_list[i]-5)>(entire_battery-soc):\n",
        "        soc = entire_battery\n",
        "      else:\n",
        "        soc += (rest_list[i]-5)\n",
        "    elif i==(len(rest_list)-1):\n",
        "      soc-=oneway\n",
        "      soc_list.append(\"%d\" % int((soc*3.6/272)*100))\n",
        "  soc -= oneway\n",
        "  soc_list.append(\"%d\" % int((soc*3.6/272)*100))\n",
        "  return soc_list\n",
        "\n",
        "for i in range(6):\n",
        "  print(\"\\n #\", i+1 ,\"bus (depart from hotel) rest_time: \\n\",hotel_bus_rest(i))\n",
        "  print(\"<SOC>\\n\",soc_list(hotel_bus_rest,i,entire_battery, oneway))\n",
        "  print(\"<SOC with air_conditioner>\\n\",soc_list(hotel_bus_rest,i,entire_battery, oneway_with_airconditioner))\n",
        "  print(\"<SOC with heater>\\n\",soc_list(hotel_bus_rest,i,entire_battery, oneway_with_heater))"
      ],
      "execution_count": 0,
      "outputs": [
        {
          "output_type": "stream",
          "text": [
            "\n",
            " # 1 bus (depart from hotel) rest_time: \n",
            " [42, 38, 19, 31, 26, 25, 20]\n",
            "<SOC>\n",
            " ['72', '72', '72', '72', '72', '72', '72', '72']\n",
            "<SOC with air_conditioner>\n",
            " ['71', '71', '71', '71', '71', '71', '71', '71']\n",
            "<SOC with heater>\n",
            " ['70', '70', '70', '70', '70', '70', '70', '70']\n",
            "\n",
            " # 2 bus (depart from hotel) rest_time: \n",
            " [42, 37, 20, 31, 26, 24, 20]\n",
            "<SOC>\n",
            " ['72', '72', '72', '72', '72', '72', '72', '72']\n",
            "<SOC with air_conditioner>\n",
            " ['71', '71', '71', '71', '71', '71', '71', '71']\n",
            "<SOC with heater>\n",
            " ['70', '70', '70', '70', '70', '70', '70', '70']\n",
            "\n",
            " # 3 bus (depart from hotel) rest_time: \n",
            " [35, 37, 20, 30, 25, 22, 27]\n",
            "<SOC>\n",
            " ['72', '72', '72', '72', '72', '72', '72', '72']\n",
            "<SOC with air_conditioner>\n",
            " ['71', '71', '71', '71', '71', '71', '71', '71']\n",
            "<SOC with heater>\n",
            " ['70', '70', '70', '70', '70', '70', '70', '70']\n",
            "\n",
            " # 4 bus (depart from hotel) rest_time: \n",
            " [25, 36, 21, 30, 23, 20, 41]\n",
            "<SOC>\n",
            " ['72', '72', '72', '72', '72', '72', '72', '72']\n",
            "<SOC with air_conditioner>\n",
            " ['71', '71', '71', '71', '71', '71', '71', '71']\n",
            "<SOC with heater>\n",
            " ['70', '70', '70', '70', '70', '70', '70', '70']\n",
            "\n",
            " # 5 bus (depart from hotel) rest_time: \n",
            " [15, 36, 21, 29, 22, 18, 55]\n",
            "<SOC>\n",
            " ['72', '69', '72', '72', '72', '72', '72', '72']\n",
            "<SOC with air_conditioner>\n",
            " ['71', '66', '71', '71', '71', '71', '70', '71']\n",
            "<SOC with heater>\n",
            " ['70', '65', '70', '70', '70', '70', '68', '70']\n",
            "\n",
            " # 6 bus (depart from hotel) rest_time: \n",
            " [15, 35, 22, 29, 20, 16]\n",
            "<SOC>\n",
            " ['72', '69', '72', '72', '72', '72', '70']\n",
            "<SOC with air_conditioner>\n",
            " ['71', '66', '71', '71', '71', '71', '67']\n",
            "<SOC with heater>\n",
            " ['70', '65', '70', '70', '70', '70', '66']\n"
          ],
          "name": "stdout"
        }
      ]
    },
    {
      "cell_type": "code",
      "metadata": {
        "id": "LXcydNmgbkop",
        "colab_type": "code",
        "outputId": "dcb0d54e-9afa-42b4-ddd6-0b0a48dc8124",
        "colab": {
          "base_uri": "https://localhost:8080/",
          "height": 34
        }
      },
      "source": [
        "def hotel_bus_rest_section(bus_num):\n",
        "  # bus_num-=1\n",
        "  airport=[]\n",
        "  hotel=[]\n",
        "  num_through = 0\n",
        "  while bus_num+7 < len(arrive_hotel):\n",
        "    if num_through % 2 == 0:\n",
        "      airport.append((arrive_airport[bus_num],depart_airport[bus_num+7]))\n",
        "      bus_num+=7\n",
        "    else:\n",
        "      hotel.append((arrive_hotel[bus_num],depart_hotel[bus_num+6],))\n",
        "      bus_num+=6\n",
        "    num_through+=1\n",
        "  return airport, hotel\n",
        "\n",
        "print(hotel_bus_rest_section(1)[0])"
      ],
      "execution_count": 0,
      "outputs": [
        {
          "output_type": "stream",
          "text": [
            "[(478, 520), (760, 780), (1014, 1040), (1267, 1287)]\n"
          ],
          "name": "stdout"
        }
      ]
    },
    {
      "cell_type": "code",
      "metadata": {
        "id": "7shMuX6_i7cC",
        "colab_type": "code",
        "outputId": "f075ea6d-0913-4da4-ecc2-cb1f44f56959",
        "colab": {
          "base_uri": "https://localhost:8080/",
          "height": 34
        }
      },
      "source": [
        "def airport_bus_rest_section(bus_num):\n",
        "  # bus_num-=1\n",
        "  airport=[]\n",
        "  hotel=[]\n",
        "  num_through = 0\n",
        "  while bus_num+6 < len(depart_hotel):\n",
        "    if num_through % 2 == 0:\n",
        "      hotel.append((arrive_hotel[bus_num],depart_hotel[bus_num+6]))\n",
        "      bus_num+=6\n",
        "    else:\n",
        "      airport.append((arrive_airport[bus_num],depart_airport[bus_num+7]))\n",
        "      bus_num+=7\n",
        "    num_through+=1\n",
        "  return airport, hotel\n",
        "\n",
        "print(airport_bus_rest_section(1))"
      ],
      "execution_count": 0,
      "outputs": [
        {
          "output_type": "stream",
          "text": [
            "([(624, 640), (877, 900), (1131, 1149)], [(478, 519), (738, 772), (998, 1026), (1247, 1258)])\n"
          ],
          "name": "stdout"
        }
      ]
    },
    {
      "cell_type": "code",
      "metadata": {
        "id": "ukw6rP-nlbp7",
        "colab_type": "code",
        "outputId": "00f2d679-b127-4e0e-88f5-68c2ccd739b7",
        "colab": {
          "base_uri": "https://localhost:8080/",
          "height": 279
        }
      },
      "source": [
        "# <간트차트 설명>\n",
        "# 1~6 bus(depart from hotel)\n",
        "# 7~13 bus(depart from airport)\n",
        "# red: airport에서 쉬는시간\n",
        "# blue: hotel에서 쉬는시간\n",
        "\n",
        "# 봤을때 한 충전소에 2개의 버스만 겹치는 것으로 보입니다.\n",
        "\n",
        "import matplotlib.pyplot as plt \n",
        "\n",
        "fig, gnt = plt.subplots() \n",
        "gnt.set_ylim(0, 150) \n",
        "gnt.set_xlim(400, 1400) \n",
        "gnt.set_xlabel('mins since start') \n",
        "gnt.set_ylabel('#Buses') \n",
        "gnt.set_yticks([15, 25, 35, 45, 55, 65, 75, 85, 95, 105, 115, 125, 135]) \n",
        "gnt.set_yticklabels(['1', '2', '3','4','5','6','7','8','9','10','11','12','13']) \n",
        "gnt.grid(True)\n",
        "def gantt_chart_hotel(section, n):\n",
        "  alist=[]\n",
        "  blist=[]\n",
        "  for i in section(n)[0]:\n",
        "    alist.append((i[0],i[1]-i[0]))\n",
        "  gnt.broken_barh(alist, (10*(n+1), 9), facecolors = 'tab:red')\n",
        "  for i in section(n)[1]:\n",
        "    blist.append((i[0],i[1]-i[0]))\n",
        "  gnt.broken_barh(blist, (10*(n+1), 9), facecolors ='tab:blue') \n",
        "\n",
        "def gantt_chart_airport(section, n):\n",
        "  alist=[]\n",
        "  blist=[]\n",
        "  for i in section(n)[0]:\n",
        "    alist.append((i[0],i[1]-i[0]))\n",
        "  gnt.broken_barh(alist, (10*(n+7), 9), facecolors = 'tab:red')\n",
        "  for i in section(n)[1]:\n",
        "    blist.append((i[0],i[1]-i[0]))\n",
        "  gnt.broken_barh(blist, (10*(n+7), 9), facecolors ='tab:blue') \n",
        "for i in range(6):\n",
        "  gantt_chart_hotel(hotel_bus_rest_section, i)\n",
        "for i in range(7):\n",
        "  gantt_chart_airport(airport_bus_rest_section, i)"
      ],
      "execution_count": 0,
      "outputs": [
        {
          "output_type": "display_data",
          "data": {
            "image/png": "[encoded data removed]",
            "text/plain": [
              "<Figure size 432x288 with 1 Axes>"
            ]
          },
          "metadata": {
            "tags": []
          }
        }
      ]
    },
    {
      "cell_type": "code",
      "metadata": {
        "id": "JkLsMjBwqlvs",
        "colab_type": "code",
        "colab": {}
      },
      "source": [
        ""
      ],
      "execution_count": 0,
      "outputs": []
    }
  ]
}