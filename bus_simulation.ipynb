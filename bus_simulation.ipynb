{
  "nbformat": 4,
  "nbformat_minor": 0,
  "metadata": {
    "colab": {
      "name": "bus_simulation.ipynb",
      "provenance": [],
      "collapsed_sections": []
    },
    "kernelspec": {
      "name": "python3",
      "display_name": "Python 3"
    }
  },
  "cells": [
    {
      "cell_type": "code",
      "metadata": {
        "id": "q2S7CvQ2bZyE",
        "colab_type": "code",
        "outputId": "a4b75202-705f-4607-de7a-a010e9a6c34f",
        "colab": {
          "base_uri": "https://localhost:8080/",
          "height": 34
        }
      },
      "source": [
        "from google.colab import drive\n",
        "\n",
        "drive.mount('/content/gdrive')"
      ],
      "execution_count": 88,
      "outputs": [
        {
          "output_type": "stream",
          "text": [
            "Drive already mounted at /content/gdrive; to attempt to forcibly remount, call drive.mount(\"/content/gdrive\", force_remount=True).\n"
          ],
          "name": "stdout"
        }
      ]
    },
    {
      "cell_type": "code",
      "metadata": {
        "id": "W66Nfzzdbka8",
        "colab_type": "code",
        "outputId": "ea0a2232-0fe6-40d5-fac4-5a9590519a3e",
        "colab": {
          "base_uri": "https://localhost:8080/",
          "height": 204
        }
      },
      "source": [
        "import pandas as pd\n",
        "\n",
        "df=pd.read_csv('/content/gdrive/My Drive/600.csv')\n",
        "df=df.iloc[:51,:4]\n",
        "df.tail()"
      ],
      "execution_count": 89,
      "outputs": [
        {
          "output_type": "execute_result",
          "data": {
            "text/html": [
              "<div>\n",
              "<style scoped>\n",
              "    .dataframe tbody tr th:only-of-type {\n",
              "        vertical-align: middle;\n",
              "    }\n",
              "\n",
              "    .dataframe tbody tr th {\n",
              "        vertical-align: top;\n",
              "    }\n",
              "\n",
              "    .dataframe thead th {\n",
              "        text-align: right;\n",
              "    }\n",
              "</style>\n",
              "<table border=\"1\" class=\"dataframe\">\n",
              "  <thead>\n",
              "    <tr style=\"text-align: right;\">\n",
              "      <th></th>\n",
              "      <th>depart_hotel</th>\n",
              "      <th>arrive_airport</th>\n",
              "      <th>depart_airport</th>\n",
              "      <th>arrive_hotel</th>\n",
              "    </tr>\n",
              "  </thead>\n",
              "  <tbody>\n",
              "    <tr>\n",
              "      <th>46</th>\n",
              "      <td>20:58</td>\n",
              "      <td>22:43</td>\n",
              "      <td>21:08</td>\n",
              "      <td>22:38</td>\n",
              "    </tr>\n",
              "    <tr>\n",
              "      <th>47</th>\n",
              "      <td>21:12</td>\n",
              "      <td>22:57</td>\n",
              "      <td>21:27</td>\n",
              "      <td>22:47</td>\n",
              "    </tr>\n",
              "    <tr>\n",
              "      <th>48</th>\n",
              "      <td>21:26</td>\n",
              "      <td>23:11</td>\n",
              "      <td>21:50</td>\n",
              "      <td>23:10</td>\n",
              "    </tr>\n",
              "    <tr>\n",
              "      <th>49</th>\n",
              "      <td>21:40</td>\n",
              "      <td>23:25</td>\n",
              "      <td>22:20</td>\n",
              "      <td>23:40</td>\n",
              "    </tr>\n",
              "    <tr>\n",
              "      <th>50</th>\n",
              "      <td>22:00</td>\n",
              "      <td>23:45</td>\n",
              "      <td>22:50</td>\n",
              "      <td>0:10</td>\n",
              "    </tr>\n",
              "  </tbody>\n",
              "</table>\n",
              "</div>"
            ],
            "text/plain": [
              "   depart_hotel arrive_airport depart_airport arrive_hotel\n",
              "46        20:58          22:43          21:08        22:38\n",
              "47        21:12          22:57          21:27        22:47\n",
              "48        21:26          23:11          21:50        23:10\n",
              "49        21:40          23:25          22:20        23:40\n",
              "50        22:00          23:45          22:50         0:10"
            ]
          },
          "metadata": {
            "tags": []
          },
          "execution_count": 89
        }
      ]
    },
    {
      "cell_type": "code",
      "metadata": {
        "id": "6RFg5aUtbkeq",
        "colab_type": "code",
        "outputId": "d95807cd-445d-47fb-ccb0-dfd75492d41b",
        "colab": {
          "base_uri": "https://localhost:8080/",
          "height": 34
        }
      },
      "source": [
        "def to_list_1(column):\n",
        "  dh=df[column].tolist()\n",
        "  l=[]\n",
        "  for i in dh:\n",
        "    i=i.replace(':','')\n",
        "    i=((int(i)//100)*60)+(int(i)%100)\n",
        "    l.append(i)\n",
        "  return l\n",
        "depart_hotel=to_list_1('depart_hotel')\n",
        "arrive_airport=to_list_1('arrive_airport')\n",
        "depart_airport=to_list_1('depart_airport')\n",
        "arrive_hotel=to_list_1('arrive_hotel')\n",
        "\n",
        "print(len(depart_hotel), len(depart_airport))"
      ],
      "execution_count": 91,
      "outputs": [
        {
          "output_type": "stream",
          "text": [
            "51 51\n"
          ],
          "name": "stdout"
        }
      ]
    },
    {
      "cell_type": "code",
      "metadata": {
        "id": "RhKKVHNBbkhV",
        "colab_type": "code",
        "outputId": "f8d7040d-c6d8-46b1-e14a-9be1f9a60092",
        "colab": {
          "base_uri": "https://localhost:8080/",
          "height": 323
        }
      },
      "source": [
        "def hotel_bus_rest(bus_num):\n",
        "  # bus_num-=1\n",
        "  a=[]\n",
        "  num_through = 0\n",
        "  while bus_num+7 < len(arrive_hotel):\n",
        "    if num_through % 2 == 0:\n",
        "      a.append(depart_airport[bus_num+7] - arrive_airport[bus_num])\n",
        "      bus_num+=7\n",
        "    else:\n",
        "      a.append(depart_hotel[bus_num+6] - arrive_hotel[bus_num])\n",
        "      bus_num+=6\n",
        "    num_through+=1\n",
        "  return a\n",
        "\n",
        "for i in range(6):\n",
        "  print(\"\\n #\", i+1 ,\"bus (depart from hotel) rest_time: \\n\",hotel_bus_rest(i))"
      ],
      "execution_count": 92,
      "outputs": [
        {
          "output_type": "stream",
          "text": [
            "\n",
            " # 1 bus (depart from hotel) rest_time: \n",
            " [42, 38, 19, 31, 26, 25, 20]\n",
            "\n",
            " # 2 bus (depart from hotel) rest_time: \n",
            " [42, 37, 20, 31, 26, 24, 20]\n",
            "\n",
            " # 3 bus (depart from hotel) rest_time: \n",
            " [35, 37, 20, 30, 25, 22, 27]\n",
            "\n",
            " # 4 bus (depart from hotel) rest_time: \n",
            " [25, 36, 21, 30, 23, 20, 41]\n",
            "\n",
            " # 5 bus (depart from hotel) rest_time: \n",
            " [15, 36, 21, 29, 22, 18, 55]\n",
            "\n",
            " # 6 bus (depart from hotel) rest_time: \n",
            " [15, 35, 22, 29, 20, 16]\n"
          ],
          "name": "stdout"
        }
      ]
    },
    {
      "cell_type": "code",
      "metadata": {
        "id": "r4LOdqepbkjV",
        "colab_type": "code",
        "outputId": "e60be66f-b8aa-44a4-feae-6603d8a8cd12",
        "colab": {
          "base_uri": "https://localhost:8080/",
          "height": 374
        }
      },
      "source": [
        "def airport_bus_rest(bus_num):\n",
        "  # bus_num-=1\n",
        "  a=[]\n",
        "  num_through = 0\n",
        "  while bus_num+6 < len(depart_hotel):\n",
        "    if num_through % 2 == 0:\n",
        "      a.append(depart_hotel[bus_num+6] - arrive_hotel[bus_num])\n",
        "      bus_num+=6\n",
        "    else:\n",
        "      a.append(depart_airport[bus_num+7] - arrive_airport[bus_num])\n",
        "      bus_num+=7\n",
        "    num_through+=1\n",
        "  return a\n",
        "\n",
        "for i in range(7):\n",
        "  print(\"\\n #\", i+1 ,\"bus (depart from airport) rest_time: \\n\",airport_bus_rest(i))"
      ],
      "execution_count": 93,
      "outputs": [
        {
          "output_type": "stream",
          "text": [
            "\n",
            " # 1 bus (depart from airport) rest_time: \n",
            " [41, 16, 35, 22, 28, 19, 14]\n",
            "\n",
            " # 2 bus (depart from airport) rest_time: \n",
            " [41, 16, 34, 23, 28, 18, 11]\n",
            "\n",
            " # 3 bus (depart from airport) rest_time: \n",
            " [40, 17, 34, 23, 27, 18, 6]\n",
            "\n",
            " # 4 bus (depart from airport) rest_time: \n",
            " [40, 17, 33, 24, 27, 17, 9]\n",
            "\n",
            " # 5 bus (depart from airport) rest_time: \n",
            " [39, 18, 33, 24, 26, 17, 4]\n",
            "\n",
            " # 6 bus (depart from airport) rest_time: \n",
            " [39, 18, 32, 25, 26, 18, 3]\n",
            "\n",
            " # 7 bus (depart from airport) rest_time: \n",
            " [38, 19, 32, 25, 25, 19]\n"
          ],
          "name": "stdout"
        }
      ]
    },
    {
      "cell_type": "code",
      "metadata": {
        "id": "5C54BxSGbklz",
        "colab_type": "code",
        "outputId": "5eda33f6-7d93-4fb2-b364-c1b788d651da",
        "colab": {
          "base_uri": "https://localhost:8080/",
          "height": 493
        }
      },
      "source": [
        "# running rate: (고도때문에 5% 소모량 더썼을시) 1.42km/kwh * 100 / 105 = 1.35km/kwh\n",
        "# charging rate: 3.6kwh/min = x로 설정\n",
        "# 전체 배터리 가정: 272kwh*0.9 = 244.8kwh = 244.8/x min\n",
        "# 62km = 62/(1.35*x) min\n",
        "x=1.4\n",
        "entire_battery = 244.8/x\n",
        "oneway = 62/(1.35*x)\n",
        "oneway_with_airconditioner=\n",
        "def soc_list(rest,num_of_bus, entire_battery, oneway):\n",
        "  soc=entire_battery\n",
        "  soc_list=[]\n",
        "  rest_list=rest(num_of_bus)\n",
        "  for i in range(len(rest_list)):\n",
        "    soc -= oneway\n",
        "    soc_list.append(\"%.2f\" % float(soc*3.6))\n",
        "    if rest_list[i]>=10:\n",
        "      if (rest_list[i]-5)>(entire_battery-soc):\n",
        "        soc = entire_battery\n",
        "      else:\n",
        "        soc += (rest_list[i]-5)\n",
        "    elif i==(len(rest_list)-1):\n",
        "      soc-=oneway\n",
        "      soc_list.append(\"%.2f\" % float(soc*3.6))\n",
        "  soc -= oneway\n",
        "  soc_list.append(\"%.2f\" % float(soc*3.6))\n",
        "  return soc_list\n",
        "\n",
        "for i in range(7):\n",
        "  print(\"\\n #\", i+1 ,\"bus (depart from airport) rest_time: \\n\",airport_bus_rest(i))\n",
        "  print(soc_list(airport_bus_rest,i,entire_battery, oneway))"
      ],
      "execution_count": 101,
      "outputs": [
        {
          "output_type": "stream",
          "text": [
            "\n",
            " # 1 bus (depart from airport) rest_time: \n",
            " [41, 16, 35, 22, 28, 19, 14]\n",
            "['511.39', '511.39', '432.90', '422.80', '365.90', '330.61', '262.91', '177.22']\n",
            "\n",
            " # 2 bus (depart from airport) rest_time: \n",
            " [41, 16, 34, 23, 28, 18, 11]\n",
            "['511.39', '511.39', '432.90', '419.20', '365.90', '330.61', '259.31', '162.82']\n",
            "\n",
            " # 3 bus (depart from airport) rest_time: \n",
            " [40, 17, 34, 23, 27, 18, 6]\n",
            "['511.39', '511.39', '436.50', '422.80', '369.50', '330.61', '259.31', '141.22', '23.12']\n",
            "\n",
            " # 4 bus (depart from airport) rest_time: \n",
            " [40, 17, 33, 24, 27, 17, 9]\n",
            "['511.39', '511.39', '436.50', '419.20', '369.50', '330.61', '255.71', '137.62', '19.52']\n",
            "\n",
            " # 5 bus (depart from airport) rest_time: \n",
            " [39, 18, 33, 24, 26, 17, 4]\n",
            "['511.39', '511.39', '440.10', '422.80', '373.10', '330.61', '255.71', '137.62', '19.52']\n",
            "\n",
            " # 6 bus (depart from airport) rest_time: \n",
            " [39, 18, 32, 25, 26, 18, 3]\n",
            "['511.39', '511.39', '440.10', '419.20', '373.10', '330.61', '259.31', '141.22', '23.12']\n",
            "\n",
            " # 7 bus (depart from airport) rest_time: \n",
            " [38, 19, 32, 25, 25, 19]\n",
            "['511.39', '511.39', '443.70', '422.80', '376.70', '330.61', '262.91']\n"
          ],
          "name": "stdout"
        }
      ]
    },
    {
      "cell_type": "code",
      "metadata": {
        "id": "0eJR4n8tR_Z7",
        "colab_type": "code",
        "colab": {
          "base_uri": "https://localhost:8080/",
          "height": 425
        },
        "outputId": "06e9ed4b-0d51-424f-8be8-7ee39f9e38a4"
      },
      "source": [
        "for i in range(6):\n",
        "  print(\"\\n #\", i+1 ,\"bus (depart from hotel) rest_time: \\n\",hotel_bus_rest(i))\n",
        "  print(soc_list(hotel_bus_rest,i,entire_battery, oneway))"
      ],
      "execution_count": 95,
      "outputs": [
        {
          "output_type": "stream",
          "text": [
            "\n",
            " # 1 bus (depart from hotle) rest_time: \n",
            " [42, 38, 19, 31, 26, 25, 20]\n",
            "['198.86', '198.86', '198.86', '198.86', '198.86', '198.86', '198.86', '198.86']\n",
            "\n",
            " # 2 bus (depart from hotle) rest_time: \n",
            " [42, 37, 20, 31, 26, 24, 20]\n",
            "['198.86', '198.86', '198.86', '198.86', '198.86', '198.86', '198.86', '198.86']\n",
            "\n",
            " # 3 bus (depart from hotle) rest_time: \n",
            " [35, 37, 20, 30, 25, 22, 27]\n",
            "['198.86', '198.86', '198.86', '198.86', '198.86', '198.86', '198.86', '198.86']\n",
            "\n",
            " # 4 bus (depart from hotle) rest_time: \n",
            " [25, 36, 21, 30, 23, 20, 41]\n",
            "['198.86', '198.86', '198.86', '198.86', '198.86', '198.86', '198.86', '198.86']\n",
            "\n",
            " # 5 bus (depart from hotle) rest_time: \n",
            " [15, 36, 21, 29, 22, 18, 55]\n",
            "['198.86', '188.93', '198.86', '198.86', '198.86', '198.86', '198.86', '198.86']\n",
            "\n",
            " # 6 bus (depart from hotle) rest_time: \n",
            " [15, 35, 22, 29, 20, 16]\n",
            "['198.86', '188.93', '198.86', '198.86', '198.86', '198.86', '192.53']\n"
          ],
          "name": "stdout"
        }
      ]
    },
    {
      "cell_type": "code",
      "metadata": {
        "id": "A7lYVz3jR_eq",
        "colab_type": "code",
        "colab": {
          "base_uri": "https://localhost:8080/",
          "height": 1000
        },
        "outputId": "02d06a82-f06c-4b4e-954d-85c7d53ffdb1"
      },
      "source": [
        "# running rate: (고도때문에 5% 소모량 더썼을시) 1.42km/kwh * 100 / 105 = 1.35km/kwh, (에어컨+일땐,) ((x*1.35)-0.43)/x km/kwh, (히터+일땐,) ((x*1.35)-0.55)/x km/kwh\n",
        "# charging rate: 3.6kwh/min = x로 설정\n",
        "# 전체 배터리 가정: 272kwh*0.9 = 244.8 kwh =244.8/x min\n",
        "# 62km = 62/(1.35*x) min\n",
        "\n",
        "#############결과\n",
        "# 에어컨,히터 안쓸땐, chargin rate = 1.4kwh/min 까지 가능\n",
        "# 에어컨은 charging rate = 2.1까지 가능\n",
        "# 히터는 charging rate = 2.3까지 가능\n",
        "\n",
        "x=2.3\n",
        "entire_battery = 244.8/x\n",
        "oneway = 62/(1.35*x)\n",
        "oneway_with_airconditioner=62/((x*1.35)-0.43)\n",
        "oneway_with_heater=62/((x*1.35)-0.55)\n",
        "\n",
        "def soc_list(rest,num_of_bus, entire_battery, oneway):\n",
        "  soc=entire_battery\n",
        "  soc_list=[]\n",
        "  rest_list=rest(num_of_bus)\n",
        "  for i in range(len(rest_list)):\n",
        "    soc -= oneway\n",
        "    soc_list.append(\"%.2f\" % float(soc*3.6))\n",
        "    if rest_list[i]>=10:\n",
        "      if (rest_list[i]-5)>(entire_battery-soc):\n",
        "        soc = entire_battery\n",
        "      else:\n",
        "        soc += (rest_list[i]-5)\n",
        "    elif i==(len(rest_list)-1):\n",
        "      soc-=oneway\n",
        "      soc_list.append(\"%.2f\" % float(soc*3.6))\n",
        "  soc -= oneway\n",
        "  soc_list.append(\"%.2f\" % float(soc*3.6))\n",
        "  return soc_list\n",
        "\n",
        "for i in range(7):\n",
        "  print(\"\\n #\", i+1 ,\"bus (depart from airport) rest_time: \\n\",airport_bus_rest(i))\n",
        "  print(\"<SOC>\\n\",soc_list(airport_bus_rest,i,entire_battery, oneway))\n",
        "  print(\"<SOC with air_conditioner>\\n\",soc_list(airport_bus_rest,i,entire_battery, oneway_with_airconditioner))\n",
        "  print(\"<SOC with heater>\\n\",soc_list(airport_bus_rest,i,entire_battery, oneway_with_heater))\n",
        "  "
      ],
      "execution_count": 121,
      "outputs": [
        {
          "output_type": "stream",
          "text": [
            "\n",
            " # 1 bus (depart from airport) rest_time: \n",
            " [41, 16, 35, 22, 28, 19, 14]\n",
            "SOC\n",
            " ['311.28', '311.28', '279.00', '311.28', '300.60', '311.28', '289.80', '250.31']\n",
            "SOC with air_conditioner\n",
            " ['299.73', '299.73', '255.89', '280.45', '258.21', '257.57', '224.53', '173.49']\n",
            "SOC with heater\n",
            " ['295.81', '295.81', '248.05', '268.69', '242.53', '237.97', '201.02', '146.06']\n",
            "\n",
            " # 2 bus (depart from airport) rest_time: \n",
            " [41, 16, 34, 23, 28, 18, 11]\n",
            "SOC\n",
            " ['311.28', '311.28', '279.00', '311.28', '304.20', '311.28', '286.20', '235.91']\n",
            "SOC with air_conditioner\n",
            " ['299.73', '299.73', '255.89', '276.85', '258.21', '257.57', '220.93', '159.09']\n",
            "SOC with heater\n",
            " ['295.81', '295.81', '248.05', '265.09', '242.53', '237.97', '197.42', '131.66']\n",
            "\n",
            " # 3 bus (depart from airport) rest_time: \n",
            " [40, 17, 34, 23, 27, 18, 6]\n",
            "SOC\n",
            " ['311.28', '311.28', '282.60', '311.28', '304.20', '311.28', '286.20', '214.31', '142.43']\n",
            "SOC with air_conditioner\n",
            " ['299.73', '299.73', '259.49', '280.45', '261.81', '257.57', '220.93', '137.49', '54.05']\n",
            "SOC with heater\n",
            " ['295.81', '295.81', '251.65', '268.69', '246.13', '237.97', '197.42', '110.06', '22.70']\n",
            "\n",
            " # 4 bus (depart from airport) rest_time: \n",
            " [40, 17, 33, 24, 27, 17, 9]\n",
            "SOC\n",
            " ['311.28', '311.28', '282.60', '311.28', '307.80', '311.28', '282.60', '210.71', '138.83']\n",
            "SOC with air_conditioner\n",
            " ['299.73', '299.73', '259.49', '276.85', '261.81', '257.57', '217.33', '133.89', '50.45']\n",
            "SOC with heater\n",
            " ['295.81', '295.81', '251.65', '265.09', '246.13', '237.97', '193.82', '106.46', '19.10']\n",
            "\n",
            " # 5 bus (depart from airport) rest_time: \n",
            " [39, 18, 33, 24, 26, 17, 4]\n",
            "SOC\n",
            " ['311.28', '311.28', '286.20', '311.28', '307.80', '311.28', '282.60', '210.71', '138.83']\n",
            "SOC with air_conditioner\n",
            " ['299.73', '299.73', '263.09', '280.45', '265.41', '257.57', '217.33', '133.89', '50.45']\n",
            "SOC with heater\n",
            " ['295.81', '295.81', '255.25', '268.69', '249.73', '237.97', '193.82', '106.46', '19.10']\n",
            "\n",
            " # 6 bus (depart from airport) rest_time: \n",
            " [39, 18, 32, 25, 26, 18, 3]\n",
            "SOC\n",
            " ['311.28', '311.28', '286.20', '311.28', '311.28', '311.28', '286.20', '214.31', '142.43']\n",
            "SOC with air_conditioner\n",
            " ['299.73', '299.73', '263.09', '276.85', '265.41', '257.57', '220.93', '137.49', '54.05']\n",
            "SOC with heater\n",
            " ['295.81', '295.81', '255.25', '265.09', '249.73', '237.97', '197.42', '110.06', '22.70']\n",
            "\n",
            " # 7 bus (depart from airport) rest_time: \n",
            " [38, 19, 32, 25, 25, 19]\n",
            "SOC\n",
            " ['311.28', '311.28', '289.80', '311.28', '311.28', '311.28', '289.80']\n",
            "SOC with air_conditioner\n",
            " ['299.73', '299.73', '266.69', '280.45', '269.01', '257.57', '224.53']\n",
            "SOC with heater\n",
            " ['295.81', '295.81', '258.85', '268.69', '253.33', '237.97', '201.02']\n"
          ],
          "name": "stdout"
        }
      ]
    },
    {
      "cell_type": "code",
      "metadata": {
        "id": "FE8IVzd3R_hX",
        "colab_type": "code",
        "colab": {
          "base_uri": "https://localhost:8080/",
          "height": 935
        },
        "outputId": "ab204cc7-2546-429b-fbfe-036c5180b96a"
      },
      "source": [
        "x=2.3\n",
        "entire_battery = 244.8/x\n",
        "oneway = 62/(1.35*x)\n",
        "oneway_with_airconditioner=62/((x*1.35)-0.43)\n",
        "oneway_with_heater=62/((x*1.35)-0.55)\n",
        "\n",
        "def soc_list(rest,num_of_bus, entire_battery, oneway):\n",
        "  soc=entire_battery\n",
        "  soc_list=[]\n",
        "  rest_list=rest(num_of_bus)\n",
        "  for i in range(len(rest_list)):\n",
        "    soc -= oneway\n",
        "    soc_list.append(\"%.2f\" % float(soc*3.6))\n",
        "    if rest_list[i]>=10:\n",
        "      if (rest_list[i]-5)>(entire_battery-soc):\n",
        "        soc = entire_battery\n",
        "      else:\n",
        "        soc += (rest_list[i]-5)\n",
        "    elif i==(len(rest_list)-1):\n",
        "      soc-=oneway\n",
        "      soc_list.append(\"%.2f\" % float(soc*3.6))\n",
        "  soc -= oneway\n",
        "  soc_list.append(\"%.2f\" % float(soc*3.6))\n",
        "  return soc_list\n",
        "\n",
        "for i in range(6):\n",
        "  print(\"\\n #\", i+1 ,\"bus (depart from hotel) rest_time: \\n\",hotel_bus_rest(i))\n",
        "  print(\"<SOC>\\n\",soc_list(hotel_bus_rest,i,entire_battery, oneway))\n",
        "  print(\"<SOC with air_conditioner>\\n\",soc_list(hotel_bus_rest,i,entire_battery, oneway_with_airconditioner))\n",
        "  print(\"<SOC with heater>\\n\",soc_list(hotel_bus_rest,i,entire_battery, oneway_with_heater))"
      ],
      "execution_count": 122,
      "outputs": [
        {
          "output_type": "stream",
          "text": [
            "\n",
            " # 1 bus (depart from hotel) rest_time: \n",
            " [42, 38, 19, 31, 26, 25, 20]\n",
            "<SOC>\n",
            " ['311.28', '311.28', '311.28', '289.80', '311.28', '311.28', '311.28', '293.40']\n",
            "<SOC with air_conditioner>\n",
            " ['299.73', '299.73', '299.73', '266.69', '276.85', '269.01', '257.57', '228.13']\n",
            "<SOC with heater>\n",
            " ['295.81', '295.81', '295.81', '258.85', '265.09', '253.33', '237.97', '204.62']\n",
            "\n",
            " # 2 bus (depart from hotel) rest_time: \n",
            " [42, 37, 20, 31, 26, 24, 20]\n",
            "<SOC>\n",
            " ['311.28', '311.28', '311.28', '293.40', '311.28', '311.28', '307.80', '289.91']\n",
            "<SOC with air_conditioner>\n",
            " ['299.73', '299.73', '299.73', '270.29', '280.45', '272.61', '257.57', '228.13']\n",
            "<SOC with heater>\n",
            " ['295.81', '295.81', '295.81', '262.45', '268.69', '256.93', '237.97', '204.62']\n",
            "\n",
            " # 3 bus (depart from hotel) rest_time: \n",
            " [35, 37, 20, 30, 25, 22, 27]\n",
            "<SOC>\n",
            " ['311.28', '311.28', '311.28', '293.40', '311.28', '311.28', '300.60', '307.91']\n",
            "<SOC with air_conditioner>\n",
            " ['299.73', '299.73', '299.73', '270.29', '276.85', '265.41', '243.17', '238.93']\n",
            "<SOC with heater>\n",
            " ['295.81', '295.81', '295.81', '262.45', '265.09', '249.73', '223.57', '215.42']\n",
            "\n",
            " # 4 bus (depart from hotel) rest_time: \n",
            " [25, 36, 21, 30, 23, 20, 41]\n",
            "<SOC>\n",
            " ['311.28', '311.28', '311.28', '297.00', '311.28', '304.20', '286.31', '311.28']\n",
            "<SOC with air_conditioner>\n",
            " ['299.73', '288.29', '299.73', '273.89', '280.45', '261.81', '232.37', '278.53']\n",
            "<SOC with heater>\n",
            " ['295.81', '280.45', '295.81', '266.05', '268.69', '246.13', '212.77', '255.02']\n",
            "\n",
            " # 5 bus (depart from hotel) rest_time: \n",
            " [15, 36, 21, 29, 22, 18, 55]\n",
            "<SOC>\n",
            " ['311.28', '275.40', '311.28', '297.00', '311.28', '300.60', '275.51', '311.28']\n",
            "<SOC with air_conditioner>\n",
            " ['299.73', '252.29', '280.45', '254.61', '257.57', '235.33', '198.69', '295.25']\n",
            "<SOC with heater>\n",
            " ['295.81', '244.45', '268.69', '238.93', '237.97', '211.82', '171.26', '263.90']\n",
            "\n",
            " # 6 bus (depart from hotel) rest_time: \n",
            " [15, 35, 22, 29, 20, 16]\n",
            "<SOC>\n",
            " ['311.28', '275.40', '311.28', '300.60', '311.28', '293.40', '261.11']\n",
            "<SOC with air_conditioner>\n",
            " ['299.73', '252.29', '276.85', '254.61', '257.57', '228.13', '184.29']\n",
            "<SOC with heater>\n",
            " ['295.81', '244.45', '265.09', '238.93', '237.97', '204.62', '156.86']\n"
          ],
          "name": "stdout"
        }
      ]
    },
    {
      "cell_type": "code",
      "metadata": {
        "id": "LXcydNmgbkop",
        "colab_type": "code",
        "outputId": "55b45075-e7ab-47e3-871c-2f371cfcd8d6",
        "colab": {
          "base_uri": "https://localhost:8080/",
          "height": 34
        }
      },
      "source": [
        "def hotel_bus_rest_section(bus_num):\n",
        "  # bus_num-=1\n",
        "  airport=[]\n",
        "  hotel=[]\n",
        "  num_through = 0\n",
        "  while bus_num+7 < len(arrive_hotel):\n",
        "    if num_through % 2 == 0:\n",
        "      airport.append((arrive_airport[bus_num],depart_airport[bus_num+7]))\n",
        "      bus_num+=7\n",
        "    else:\n",
        "      hotel.append((arrive_hotel[bus_num],depart_hotel[bus_num+6],))\n",
        "      bus_num+=6\n",
        "    num_through+=1\n",
        "  return airport, hotel\n",
        "\n",
        "print(hotel_bus_rest_section(1)[0])"
      ],
      "execution_count": 127,
      "outputs": [
        {
          "output_type": "stream",
          "text": [
            "[(478, 520), (760, 780), (1014, 1040), (1267, 1287)]\n"
          ],
          "name": "stdout"
        }
      ]
    },
    {
      "cell_type": "code",
      "metadata": {
        "id": "7shMuX6_i7cC",
        "colab_type": "code",
        "outputId": "6d09a629-789b-4c59-ec29-d0cdb2629321",
        "colab": {
          "base_uri": "https://localhost:8080/",
          "height": 34
        }
      },
      "source": [
        "def airport_bus_rest_section(bus_num):\n",
        "  # bus_num-=1\n",
        "  airport=[]\n",
        "  hotel=[]\n",
        "  num_through = 0\n",
        "  while bus_num+6 < len(depart_hotel):\n",
        "    if num_through % 2 == 0:\n",
        "      hotel.append((arrive_hotel[bus_num],depart_hotel[bus_num+6]))\n",
        "      bus_num+=6\n",
        "    else:\n",
        "      airport.append((arrive_airport[bus_num],depart_airport[bus_num+7]))\n",
        "      bus_num+=7\n",
        "    num_through+=1\n",
        "  return airport, hotel\n",
        "\n",
        "print(airport_bus_rest_section(1))"
      ],
      "execution_count": 128,
      "outputs": [
        {
          "output_type": "stream",
          "text": [
            "([(624, 640), (877, 900), (1131, 1149)], [(478, 519), (738, 772), (998, 1026), (1247, 1258)])\n"
          ],
          "name": "stdout"
        }
      ]
    },
    {
      "cell_type": "code",
      "metadata": {
        "id": "ukw6rP-nlbp7",
        "colab_type": "code",
        "colab": {
          "base_uri": "https://localhost:8080/",
          "height": 279
        },
        "outputId": "fb8332b1-a00a-4b4d-9950-e52794666433"
      },
      "source": [
        "# <간트차트 설명>\n",
        "# 1~6 bus(depart from hotel)\n",
        "# 7~13 bus(depart from hotel)\n",
        "# red: airport에서 쉬는시간\n",
        "# blue: hotel에서 쉬는시간\n",
        "\n",
        "# 봤을때 한 충전소에 2개의 버스만 겹치는 것으로 보입니다.\n",
        "\n",
        "import matplotlib.pyplot as plt \n",
        "\n",
        "fig, gnt = plt.subplots() \n",
        "gnt.set_ylim(0, 150) \n",
        "gnt.set_xlim(400, 1400) \n",
        "gnt.set_xlabel('mins since start') \n",
        "gnt.set_ylabel('#Buses') \n",
        "gnt.set_yticks([15, 25, 35, 45, 55, 65, 75, 85, 95, 105, 115, 125, 135]) \n",
        "gnt.set_yticklabels(['1', '2', '3','4','5','6','7','8','9','10','11','12','13']) \n",
        "gnt.grid(True)\n",
        "def gantt_chart_hotel(section, n):\n",
        "  alist=[]\n",
        "  blist=[]\n",
        "  for i in section(n)[0]:\n",
        "    alist.append((i[0],i[1]-i[0]))\n",
        "  gnt.broken_barh(alist, (10*(n+1), 9), facecolors = 'tab:red')\n",
        "  for i in section(n)[1]:\n",
        "    blist.append((i[0],i[1]-i[0]))\n",
        "  gnt.broken_barh(blist, (10*(n+1), 9), facecolors ='tab:blue') \n",
        "\n",
        "def gantt_chart_airport(section, n):\n",
        "  alist=[]\n",
        "  blist=[]\n",
        "  for i in section(n)[0]:\n",
        "    alist.append((i[0],i[1]-i[0]))\n",
        "  gnt.broken_barh(alist, (10*(n+7), 9), facecolors = 'tab:red')\n",
        "  for i in section(n)[1]:\n",
        "    blist.append((i[0],i[1]-i[0]))\n",
        "  gnt.broken_barh(blist, (10*(n+7), 9), facecolors ='tab:blue') \n",
        "for i in range(6):\n",
        "  gantt_chart_hotel(hotel_bus_rest_section, i)\n",
        "for i in range(7):\n",
        "  gantt_chart_airport(airport_bus_rest_section, i)"
      ],
      "execution_count": 158,
      "outputs": [
        {
          "output_type": "display_data",
          "data": {
            "image/png": "[encoded data removed]",
            "text/plain": [
              "<Figure size 432x288 with 1 Axes>"
            ]
          },
          "metadata": {
            "tags": []
          }
        }
      ]
    },
    {
      "cell_type": "code",
      "metadata": {
        "id": "JkLsMjBwqlvs",
        "colab_type": "code",
        "colab": {}
      },
      "source": [
        ""
      ],
      "execution_count": 0,
      "outputs": []
    }
  ]
}